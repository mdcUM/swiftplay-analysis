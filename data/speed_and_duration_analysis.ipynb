{
 "cells": [
  {
   "cell_type": "code",
   "execution_count": 8,
   "metadata": {},
   "outputs": [
    {
     "ename": "ImportError",
     "evalue": "cannot import name 'get_all_data' from 'common' (/opt/anaconda3/lib/python3.12/site-packages/common/__init__.py)",
     "output_type": "error",
     "traceback": [
      "\u001b[0;31m---------------------------------------------------------------------------\u001b[0m",
      "\u001b[0;31mImportError\u001b[0m                               Traceback (most recent call last)",
      "Cell \u001b[0;32mIn[8], line 4\u001b[0m\n\u001b[1;32m      2\u001b[0m \u001b[38;5;28;01mimport\u001b[39;00m \u001b[38;5;21;01mmatplotlib\u001b[39;00m\u001b[38;5;21;01m.\u001b[39;00m\u001b[38;5;21;01mpyplot\u001b[39;00m \u001b[38;5;28;01mas\u001b[39;00m \u001b[38;5;21;01mplt\u001b[39;00m\n\u001b[1;32m      3\u001b[0m \u001b[38;5;28;01mimport\u001b[39;00m \u001b[38;5;21;01mnumpy\u001b[39;00m \u001b[38;5;28;01mas\u001b[39;00m \u001b[38;5;21;01mnp\u001b[39;00m\n\u001b[0;32m----> 4\u001b[0m \u001b[38;5;28;01mfrom\u001b[39;00m \u001b[38;5;21;01mcommon\u001b[39;00m \u001b[38;5;28;01mimport\u001b[39;00m get_all_data\n\u001b[1;32m      6\u001b[0m player_data, rank_match_data, rank_player_match_data, swift_match_data, swift_player_match_data \u001b[38;5;241m=\u001b[39m get_all_data()\n",
      "\u001b[0;31mImportError\u001b[0m: cannot import name 'get_all_data' from 'common' (/opt/anaconda3/lib/python3.12/site-packages/common/__init__.py)"
     ]
    }
   ],
   "source": [
    "import pandas as pd\n",
    "import matplotlib.pyplot as plt\n",
    "import numpy as np\n",
    "from common import get_all_data\n",
    "\n",
    "player_data, rank_match_data, rank_player_match_data, swift_match_data, swift_player_match_data = get_all_data()"
   ]
  },
  {
   "cell_type": "code",
   "execution_count": 7,
   "metadata": {},
   "outputs": [
    {
     "ename": "NameError",
     "evalue": "name 'rank_player_match_data' is not defined",
     "output_type": "error",
     "traceback": [
      "\u001b[0;31m---------------------------------------------------------------------------\u001b[0m",
      "\u001b[0;31mNameError\u001b[0m                                 Traceback (most recent call last)",
      "Cell \u001b[0;32mIn[7], line 4\u001b[0m\n\u001b[1;32m      1\u001b[0m \u001b[38;5;66;03m# Swiftplay duration vs Ranked duration\u001b[39;00m\n\u001b[1;32m      2\u001b[0m \n\u001b[1;32m      3\u001b[0m \u001b[38;5;66;03m# Merge Ranked datasets\u001b[39;00m\n\u001b[0;32m----> 4\u001b[0m ranked_merged \u001b[38;5;241m=\u001b[39m pd\u001b[38;5;241m.\u001b[39mmerge(rank_player_match_data, rank_match_data, on\u001b[38;5;241m=\u001b[39m\u001b[38;5;124m\"\u001b[39m\u001b[38;5;124mmatchId\u001b[39m\u001b[38;5;124m\"\u001b[39m)\n\u001b[1;32m      5\u001b[0m ranked_duration \u001b[38;5;241m=\u001b[39m ranked_merged\u001b[38;5;241m.\u001b[39mgroupby(\u001b[38;5;124m\"\u001b[39m\u001b[38;5;124mtier\u001b[39m\u001b[38;5;124m\"\u001b[39m)[\u001b[38;5;124m\"\u001b[39m\u001b[38;5;124mgameDuration\u001b[39m\u001b[38;5;124m\"\u001b[39m]\u001b[38;5;241m.\u001b[39mmean()\u001b[38;5;241m.\u001b[39mreset_index()\n\u001b[1;32m      6\u001b[0m ranked_duration \u001b[38;5;241m=\u001b[39m ranked_duration\u001b[38;5;241m.\u001b[39msort_values(\u001b[38;5;124m\"\u001b[39m\u001b[38;5;124mtier\u001b[39m\u001b[38;5;124m\"\u001b[39m)\n",
      "\u001b[0;31mNameError\u001b[0m: name 'rank_player_match_data' is not defined"
     ]
    }
   ],
   "source": [
    "# Swiftplay duration vs Ranked duration\n",
    "\n",
    "# Merge Ranked datasets\n",
    "ranked_merged = pd.merge(rank_player_match_data, rank_match_data, on=\"matchId\")\n",
    "ranked_duration = ranked_merged.groupby(\"tier\")[\"gameDuration\"].mean().reset_index()\n",
    "ranked_duration = ranked_duration.sort_values(\"tier\")\n",
    "\n",
    "# Merge Swiftplay datasets\n",
    "swift_merged = pd.merge(swift_player_match_data, swift_match_data, on=\"matchId\")\n",
    "swift_duration = swift_merged.groupby(\"tier\")[\"gameDuration\"].mean().reset_index()\n",
    "swift_duration = swift_duration.sort_values(\"tier\")\n",
    "\n",
    "# Merge both on tier\n",
    "combined = pd.merge(ranked_duration, swift_duration, on=\"tier\", suffixes=(\"_Ranked\", \"_Swift\"))\n",
    "\n",
    "# Plotting side-by-side bar chart\n",
    "x = np.arange(len(combined[\"tier\"]))  # label locations\n",
    "width = 0.35  # width of the bars\n",
    "\n",
    "plt.figure(figsize=(12, 6))\n",
    "plt.bar(x - width/2, combined[\"gameDuration_Ranked\"], width, label=\"Ranked\")\n",
    "plt.bar(x + width/2, combined[\"gameDuration_Swift\"], width, label=\"Swiftplay\")\n",
    "\n",
    "plt.xlabel(\"Tier\")\n",
    "plt.ylabel(\"Average Game Duration (seconds)\")\n",
    "plt.title(\"Average Game Duration by Tier: Ranked vs Swiftplay\")\n",
    "plt.xticks(x, combined[\"tier\"], rotation=45)\n",
    "plt.legend()\n",
    "plt.tight_layout()\n",
    "plt.show()"
   ]
  },
  {
   "cell_type": "code",
   "execution_count": null,
   "metadata": {},
   "outputs": [],
   "source": [
    "def get_surrender_percentage(groupby_obj):\n",
    "    # count the occurrences of each boolean value\n",
    "    counts = groupby_obj.size()\n",
    "    \n",
    "    # if true isn't in the index, that means there are no surrenders\n",
    "    if True not in counts.index:\n",
    "        return 0\n",
    "    \n",
    "    # calculate percentage of true values\n",
    "    total = counts.sum()\n",
    "    true_count = counts.get(True, 0)\n",
    "    percentage = (true_count / total) * 100\n",
    "    \n",
    "    return percentage\n",
    "\n",
    "# In all games, the percentage of gameEnded InEarlySurrender, and gameEndedInSurrender\n",
    "# compare rate of games ended in early surrender and games ended in surrender in ranked with \n",
    "# games ended in early surrender and games ended in surrender in swiftplay\n",
    "\n",
    "swiftplay_early_surrender = swift_match_data.groupby(\"gameEndedInEarlySurrender\")\n",
    "swiftplay_surrender = swift_match_data.groupby(\"gameEndedInSurrender\")\n",
    "ranked_early_surrender = rank_match_data.groupby(\"gameEndedInEarlySurrender\")\n",
    "ranked_surrender = rank_match_data.groupby(\"gameEndedInSurrender\")\n",
    "\n",
    "swiftplay_early_pct = get_surrender_percentage(swiftplay_early_surrender)\n",
    "swiftplay_regular_pct = get_surrender_percentage(swiftplay_surrender)\n",
    "ranked_early_pct = get_surrender_percentage(ranked_early_surrender)\n",
    "ranked_regular_pct = get_surrender_percentage(ranked_surrender)\n",
    "\n",
    "# print the calculated percentages\n",
    "print(f\"Ranked - Early Surrender: {ranked_early_pct:.2f}%\")\n",
    "print(f\"Ranked - Regular Surrender: {ranked_regular_pct:.2f}%\")\n",
    "print(f\"Swiftplay - Early Surrender: {swiftplay_early_pct:.2f}%\")\n",
    "print(f\"Swiftplay - Regular Surrender: {swiftplay_regular_pct:.2f}%\")\n",
    "\n",
    "# create a df for plotting\n",
    "data = {\n",
    "    'Game Mode': ['Ranked', 'Ranked', 'Swiftplay', 'Swiftplay'],\n",
    "    'Surrender Type': ['Early Surrender', 'Regular Surrender', 'Early Surrender', 'Regular Surrender'],\n",
    "    'Percentage': [ranked_early_pct, ranked_regular_pct, swiftplay_early_pct, swiftplay_regular_pct]\n",
    "}\n",
    "plot_df = pd.DataFrame(data)\n",
    "\n",
    "# create grouped bar chart\n",
    "plt.figure(figsize=(10, 6))\n",
    "\n",
    "# prepare data for grouped bar chart\n",
    "x = np.array([0, 1])  # positions for ranked and swiftplay\n",
    "width = 0.35\n",
    "\n",
    "# create bars\n",
    "plt.bar(x - width/2, [ranked_early_pct, swiftplay_early_pct], width, \n",
    "        label='Early Surrender', color='#8884d8')\n",
    "plt.bar(x + width/2, [ranked_regular_pct, swiftplay_regular_pct], width,\n",
    "        label='Regular Surrender', color='#82ca9d')\n",
    "\n",
    "# add labels and title\n",
    "plt.xlabel('Game Mode')\n",
    "plt.ylabel('Percentage of Games (%)')\n",
    "plt.title('Surrender Rate Comparison: Ranked vs Swiftplay')\n",
    "plt.xticks(x, ['Ranked', 'Swiftplay'])\n",
    "plt.legend()\n",
    "\n",
    "# add percentage values on top of bars\n",
    "plt.text(x[0] - width/2, ranked_early_pct + 1, f'{ranked_early_pct:.1f}%', ha='center')\n",
    "plt.text(x[0] + width/2, ranked_regular_pct + 1, f'{ranked_regular_pct:.1f}%', ha='center')\n",
    "plt.text(x[1] - width/2, swiftplay_early_pct + 1, f'{swiftplay_early_pct:.1f}%', ha='center')\n",
    "plt.text(x[1] + width/2, swiftplay_regular_pct + 1, f'{swiftplay_regular_pct:.1f}%', ha='center')\n",
    "\n",
    "plt.tight_layout()\n",
    "# plt.savefig('surrender_comparison.png')\n",
    "plt.show()"
   ]
  },
  {
   "cell_type": "code",
   "execution_count": null,
   "metadata": {},
   "outputs": [],
   "source": [
    "# Average amount of time spent dead; Average amount of time spent dead by rank(??)"
   ]
  }
 ],
 "metadata": {
  "kernelspec": {
   "display_name": "base",
   "language": "python",
   "name": "python3"
  },
  "language_info": {
   "codemirror_mode": {
    "name": "ipython",
    "version": 3
   },
   "file_extension": ".py",
   "mimetype": "text/x-python",
   "name": "python",
   "nbconvert_exporter": "python",
   "pygments_lexer": "ipython3",
   "version": "3.12.4"
  }
 },
 "nbformat": 4,
 "nbformat_minor": 2
}
