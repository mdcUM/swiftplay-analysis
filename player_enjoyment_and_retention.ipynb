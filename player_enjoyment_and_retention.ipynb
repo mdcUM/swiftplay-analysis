{
 "cells": [
  {
   "cell_type": "code",
   "execution_count": null,
   "metadata": {},
   "outputs": [],
   "source": [
    "import pandas as pd\n",
    "import numpy as np\n",
    "import matplotlib.pyplot as plt\n",
    "import seaborn as sns\n",
    "from common import rank_order, get_all_data  # Import the function from common.py\n",
    "\n",
    "# Load all preprocessed data\n",
    "players, ranked_matches, ranked_player_match_data, swiftplay_matches, swiftplay_player_match_data = get_all_data()\n"
   ]
  },
  {
   "cell_type": "code",
   "execution_count": 10,
   "metadata": {},
   "outputs": [
    {
     "name": "stderr",
     "output_type": "stream",
     "text": [
      "/var/folders/vj/vyxgv4qx2t37kcqjhxpwsgk00000gn/T/ipykernel_96803/2967260966.py:8: FutureWarning: The default of observed=False is deprecated and will be changed to True in a future version of pandas. Pass observed=False to retain current behavior or observed=True to adopt the future default and silence this warning.\n",
      "  ranked_metrics = ranked_merged.groupby(\"full_rank\")[[\"gameEndedInEarlySurrender\", \"gameEndedInSurrender\", \"totalTimeSpentDead\"]].mean()\n",
      "/var/folders/vj/vyxgv4qx2t37kcqjhxpwsgk00000gn/T/ipykernel_96803/2967260966.py:9: FutureWarning: The default of observed=False is deprecated and will be changed to True in a future version of pandas. Pass observed=False to retain current behavior or observed=True to adopt the future default and silence this warning.\n",
      "  swift_metrics = swift_merged.groupby(\"full_rank\")[[\"gameEndedInEarlySurrender\", \"gameEndedInSurrender\", \"totalTimeSpentDead\"]].mean()\n"
     ]
    },
    {
     "ename": "NameError",
     "evalue": "name 'rank_order' is not defined",
     "output_type": "error",
     "traceback": [
      "\u001b[31m---------------------------------------------------------------------------\u001b[39m",
      "\u001b[31mNameError\u001b[39m                                 Traceback (most recent call last)",
      "\u001b[36mCell\u001b[39m\u001b[36m \u001b[39m\u001b[32mIn[10]\u001b[39m\u001b[32m, line 12\u001b[39m\n\u001b[32m      9\u001b[39m swift_metrics = swift_merged.groupby(\u001b[33m\"\u001b[39m\u001b[33mfull_rank\u001b[39m\u001b[33m\"\u001b[39m)[[\u001b[33m\"\u001b[39m\u001b[33mgameEndedInEarlySurrender\u001b[39m\u001b[33m\"\u001b[39m, \u001b[33m\"\u001b[39m\u001b[33mgameEndedInSurrender\u001b[39m\u001b[33m\"\u001b[39m, \u001b[33m\"\u001b[39m\u001b[33mtotalTimeSpentDead\u001b[39m\u001b[33m\"\u001b[39m]].mean()\n\u001b[32m     11\u001b[39m \u001b[38;5;66;03m# Reindex by rank order to ensure proper tier ordering\u001b[39;00m\n\u001b[32m---> \u001b[39m\u001b[32m12\u001b[39m ranked_metrics = ranked_metrics.reindex(\u001b[43mrank_order\u001b[49m)\n\u001b[32m     13\u001b[39m swift_metrics = swift_metrics.reindex(rank_order)\n\u001b[32m     15\u001b[39m \u001b[38;5;66;03m# Merge both datasets on full_rank\u001b[39;00m\n",
      "\u001b[31mNameError\u001b[39m: name 'rank_order' is not defined"
     ]
    }
   ],
   "source": [
    "# Merge Ranked datasets\n",
    "ranked_merged = pd.merge(ranked_player_match_data, ranked_matches, on=\"matchId\")\n",
    "\n",
    "# Merge Swiftplay datasets\n",
    "swift_merged = pd.merge(swiftplay_player_match_data, swiftplay_matches, on=\"matchId\")\n",
    "\n",
    "# Aggregate metrics by tier for Ranked and Swiftplay\n",
    "ranked_metrics = ranked_merged.groupby(\"full_rank\")[[\"gameEndedInEarlySurrender\", \"gameEndedInSurrender\", \"totalTimeSpentDead\"]].mean()\n",
    "swift_metrics = swift_merged.groupby(\"full_rank\")[[\"gameEndedInEarlySurrender\", \"gameEndedInSurrender\", \"totalTimeSpentDead\"]].mean()\n",
    "\n",
    "# Reindex by rank order to ensure proper tier ordering\n",
    "ranked_metrics = ranked_metrics.reindex(rank_order)\n",
    "swift_metrics = swift_metrics.reindex(rank_order)\n",
    "\n",
    "# Merge both datasets on full_rank\n",
    "combined_metrics = pd.merge(ranked_metrics, swift_metrics, left_index=True, right_index=True, suffixes=(\"_Ranked\", \"_Swift\"))\n",
    "\n",
    "# Define function to plot metrics\n",
    "def plot_metric(metric, ylabel, title):\n",
    "    plt.figure(figsize=(12, 6))\n",
    "    combined_metrics[[f\"{metric}_Ranked\", f\"{metric}_Swift\"]].plot(kind=\"bar\", width=0.8)\n",
    "\n",
    "    plt.xlabel(\"Rank\")\n",
    "    plt.ylabel(ylabel)\n",
    "    plt.title(title)\n",
    "    plt.xticks(rotation=45)\n",
    "    plt.legend([\"Ranked\", \"Swiftplay\"])\n",
    "    plt.tight_layout()\n",
    "    plt.show()\n",
    "\n",
    "# Plot each metric\n",
    "plot_metric(\"gameEndedInEarlySurrender\", \"Avg. Early Surrender Rate\", \"Early Surrender Rate by Rank: Ranked vs Swiftplay\")\n",
    "plot_metric(\"gameEndedInSurrender\", \"Avg. Surrender Rate\", \"Surrender Rate by Rank: Ranked vs Swiftplay\")\n",
    "plot_metric(\"totalTimeSpentDead\", \"Avg. Total Time Spent Dead (seconds)\", \"Total Time Spent Dead by Rank: Ranked vs Swiftplay\")\n"
   ]
  },
  {
   "cell_type": "code",
   "execution_count": null,
   "metadata": {},
   "outputs": [],
   "source": [
    "swiftplay_player_match_data[\"full_rank\"].value_counts().reindex(rank_order).plot(kind='bar')"
   ]
  }
 ],
 "metadata": {
  "kernelspec": {
   "display_name": "Python 3",
   "language": "python",
   "name": "python3"
  },
  "language_info": {
   "codemirror_mode": {
    "name": "ipython",
    "version": 3
   },
   "file_extension": ".py",
   "mimetype": "text/x-python",
   "name": "python",
   "nbconvert_exporter": "python",
   "pygments_lexer": "ipython3",
   "version": "3.13.1"
  }
 },
 "nbformat": 4,
 "nbformat_minor": 2
}
